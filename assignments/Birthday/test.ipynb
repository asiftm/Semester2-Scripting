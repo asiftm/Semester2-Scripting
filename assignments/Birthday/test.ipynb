{
 "cells": [
  {
   "cell_type": "code",
   "execution_count": 1,
   "metadata": {},
   "outputs": [],
   "source": [
    "import pandas as pd"
   ]
  },
  {
   "cell_type": "code",
   "execution_count": 2,
   "metadata": {},
   "outputs": [
    {
     "name": "stdout",
     "output_type": "stream",
     "text": [
      "        year  month  date_of_month  day_of_week   births      date\n",
      "0     2000.0    1.0            1.0          6.0   9083.0  1/1/2000\n",
      "1     2000.0    1.0            2.0          7.0   8006.0  1/2/2000\n",
      "2     2000.0    1.0            3.0          1.0  11363.0  1/3/2000\n",
      "3     2000.0    1.0            4.0          2.0  13032.0  1/4/2000\n",
      "4     2000.0    1.0            5.0          3.0  12558.0  1/5/2000\n",
      "...      ...    ...            ...          ...      ...       ...\n",
      "9525     NaN    NaN            NaN          NaN      NaN       NaN\n",
      "9526     NaN    NaN            NaN          NaN      NaN       NaN\n",
      "9527     NaN    NaN            NaN          NaN      NaN       NaN\n",
      "9528     NaN    NaN            NaN          NaN      NaN       NaN\n",
      "9529     NaN    NaN            NaN          NaN      NaN       NaN\n",
      "\n",
      "[9530 rows x 6 columns]\n"
     ]
    }
   ],
   "source": [
    "df = pd.read_csv('./data.csv')\n",
    "print(df)"
   ]
  },
  {
   "cell_type": "code",
   "execution_count": null,
   "metadata": {},
   "outputs": [],
   "source": []
  },
  {
   "cell_type": "code",
   "execution_count": null,
   "metadata": {},
   "outputs": [],
   "source": []
  },
  {
   "cell_type": "code",
   "execution_count": null,
   "metadata": {},
   "outputs": [],
   "source": []
  },
  {
   "cell_type": "code",
   "execution_count": null,
   "metadata": {},
   "outputs": [],
   "source": []
  },
  {
   "cell_type": "code",
   "execution_count": 1,
   "metadata": {},
   "outputs": [],
   "source": [
    "import pandas as pd\n",
    "day = 11\n",
    "month = 9\n",
    "df = pd.read_csv(\"./data.csv\")\n",
    "    "
   ]
  },
  {
   "cell_type": "code",
   "execution_count": 3,
   "metadata": {},
   "outputs": [
    {
     "name": "stdout",
     "output_type": "stream",
     "text": [
      "62187024.0\n"
     ]
    }
   ],
   "source": [
    "birth_total = df['births'].sum()\n",
    "print(birth_total)"
   ]
  },
  {
   "cell_type": "code",
   "execution_count": 4,
   "metadata": {},
   "outputs": [
    {
     "name": "stdout",
     "output_type": "stream",
     "text": [
      "175491.0\n"
     ]
    }
   ],
   "source": [
    "day_total = df[(df['month']==month)&(df['date_of_month']==day)]['births'].sum()\n",
    "print(day_total)"
   ]
  },
  {
   "cell_type": "code",
   "execution_count": 5,
   "metadata": {},
   "outputs": [
    {
     "name": "stdout",
     "output_type": "stream",
     "text": [
      "62187024.0 175491.0\n",
      "Percentage of people born on same day: 0.28 %\n"
     ]
    }
   ],
   "source": [
    "percentage = (day_total*100)/birth_total\n",
    "print(birth_total,day_total)\n",
    "print(f'Percentage of people born on same day: {round(percentage,2)} %')"
   ]
  }
 ],
 "metadata": {
  "kernelspec": {
   "display_name": "Python 3",
   "language": "python",
   "name": "python3"
  },
  "language_info": {
   "codemirror_mode": {
    "name": "ipython",
    "version": 3
   },
   "file_extension": ".py",
   "mimetype": "text/x-python",
   "name": "python",
   "nbconvert_exporter": "python",
   "pygments_lexer": "ipython3",
   "version": "3.11.2"
  },
  "orig_nbformat": 4
 },
 "nbformat": 4,
 "nbformat_minor": 2
}
