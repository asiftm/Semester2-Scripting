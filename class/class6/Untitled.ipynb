{
 "cells": [
  {
   "cell_type": "code",
   "execution_count": 2,
   "id": "ca00a1a1",
   "metadata": {},
   "outputs": [],
   "source": [
    "import pandas as pd\n",
    "import json"
   ]
  },
  {
   "cell_type": "code",
   "execution_count": 14,
   "id": "ceea293a",
   "metadata": {},
   "outputs": [
    {
     "name": "stdout",
     "output_type": "stream",
     "text": [
      "            isbn                                      title  \\\n",
      "0  9781593275846        Eloquent JavaScript, Second Edition   \n",
      "1  9781449331818        Learning JavaScript Design Patterns   \n",
      "2  9781449365035                        Speaking JavaScript   \n",
      "3  9781491950296        Programming JavaScript Applications   \n",
      "4  9781593277574                 Understanding ECMAScript 6   \n",
      "5  9781491904244                          You Don't Know JS   \n",
      "6  9781449325862                           Git Pocket Guide   \n",
      "7  9781449337711  Designing Evolvable Web APIs with ASP.NET   \n",
      "\n",
      "                                            subtitle                author  \\\n",
      "0               A Modern Introduction to Programming      Marijn Haverbeke   \n",
      "1          A JavaScript and jQuery Developer's Guide           Addy Osmani   \n",
      "2                  An In-Depth Guide for Programmers      Axel Rauschmayer   \n",
      "3  Robust Web Architecture with Node, HTML5, and ...          Eric Elliott   \n",
      "4     The Definitive Guide for JavaScript Developers     Nicholas C. Zakas   \n",
      "5                                       ES6 & Beyond          Kyle Simpson   \n",
      "6                             A Working Introduction  Richard E. Silverman   \n",
      "7                    Harnessing the Power of the Web   Glenn Block, et al.   \n",
      "\n",
      "                  published        publisher  pages  \\\n",
      "0  2014-12-14T00:00:00.000Z  No Starch Press    472   \n",
      "1  2012-07-01T00:00:00.000Z   O'Reilly Media    254   \n",
      "2  2014-02-01T00:00:00.000Z   O'Reilly Media    460   \n",
      "3  2014-07-01T00:00:00.000Z   O'Reilly Media    254   \n",
      "4  2016-09-03T00:00:00.000Z  No Starch Press    352   \n",
      "5  2015-12-27T00:00:00.000Z   O'Reilly Media    278   \n",
      "6  2013-08-02T00:00:00.000Z   O'Reilly Media    234   \n",
      "7  2014-04-07T00:00:00.000Z   O'Reilly Media    538   \n",
      "\n",
      "                                         description  \\\n",
      "0  JavaScript lies at the heart of almost every m...   \n",
      "1  With Learning JavaScript Design Patterns, you'...   \n",
      "2  Like it or not, JavaScript is everywhere these...   \n",
      "3  Take advantage of JavaScript's power to build ...   \n",
      "4  ECMAScript 6 represents the biggest update to ...   \n",
      "5  No matter how much experience you have with Ja...   \n",
      "6  This pocket guide is the perfect on-the-job co...   \n",
      "7  Design and build Web APIs for a broad range of...   \n",
      "\n",
      "                                             website  \n",
      "0                     http://eloquentjavascript.net/  \n",
      "1  http://www.addyosmani.com/resources/essentialj...  \n",
      "2                             http://speakingjs.com/  \n",
      "3  http://chimera.labs.oreilly.com/books/12340000...  \n",
      "4          https://leanpub.com/understandinges6/read  \n",
      "5  https://github.com/getify/You-Dont-Know-JS/tre...  \n",
      "6  http://chimera.labs.oreilly.com/books/12300000...  \n",
      "7  http://chimera.labs.oreilly.com/books/12340000...  \n"
     ]
    }
   ],
   "source": [
    "file = open('books.json')\n",
    "file_dict=json.load(file)\n",
    "file.close()\n",
    "\n",
    "df_nested_list = pd.json_normalize(file_dict['books'])\n",
    "print(df_nested_list)"
   ]
  },
  {
   "cell_type": "code",
   "execution_count": 43,
   "id": "ba7a00b7",
   "metadata": {},
   "outputs": [],
   "source": [
    "import json\n",
    "import requests"
   ]
  },
  {
   "cell_type": "code",
   "execution_count": 49,
   "id": "cd96a14a",
   "metadata": {},
   "outputs": [],
   "source": [
    "url = \"https://api.kanye.rest/\""
   ]
  },
  {
   "cell_type": "code",
   "execution_count": 50,
   "id": "087039db",
   "metadata": {},
   "outputs": [],
   "source": [
    "try:\n",
    "    response = requests.get(url)\n",
    "    code = response.status_code\n",
    "    if code == 200:\n",
    "        kanye_dict = json.loads(response.text)\n",
    "except Exception as e: \n",
    "    print(e)"
   ]
  },
  {
   "cell_type": "code",
   "execution_count": 51,
   "id": "72f53ef8",
   "metadata": {},
   "outputs": [
    {
     "data": {
      "text/plain": [
       "'Buy property'"
      ]
     },
     "execution_count": 51,
     "metadata": {},
     "output_type": "execute_result"
    }
   ],
   "source": [
    "kanye_dict[\"quote\"]"
   ]
  },
  {
   "cell_type": "code",
   "execution_count": 62,
   "id": "2c7dc373",
   "metadata": {},
   "outputs": [],
   "source": [
    "import requests\n",
    "import json\n",
    "\n",
    "api_url = \"https://love-calculator.p.rapidapi.com/getPercentage\"\n",
    "api_headers = {\n",
    "\t\"x-rapidapi-key\": \"9a81a971b3msh34cb1c391aed569p10a071jsnf95a632ba13e\",\n",
    "\t\"x-rapidapi-host\": \"love-calculator.p.rapidapi.com\"}\n",
    "api_query = {\n",
    "\t\"fname\": \"Elke\",\n",
    "\t\"sname\": \"Christophe\" }\n",
    "\n",
    "try:\n",
    "    response = requests.get(api_url, headers = api_headers, params=api_query)\n",
    "    \n",
    "    if response.status_code==200:\n",
    "        result = json.loads(response.text)\n",
    "except Exception as e:\n",
    "    print(e)"
   ]
  },
  {
   "cell_type": "code",
   "execution_count": 63,
   "id": "cb377909",
   "metadata": {},
   "outputs": [
    {
     "data": {
      "text/plain": [
       "'Congratulations! Good choice'"
      ]
     },
     "execution_count": 63,
     "metadata": {},
     "output_type": "execute_result"
    }
   ],
   "source": [
    "result['result']"
   ]
  },
  {
   "cell_type": "code",
   "execution_count": 65,
   "id": "850cc56f",
   "metadata": {},
   "outputs": [
    {
     "name": "stdout",
     "output_type": "stream",
     "text": [
      "{\"entries\":2,\"results\":[{\"id\":\"tt0001702\",\"primaryImage\":null,\"titleType\":{\"text\":\"Short\",\"id\":\"short\",\"isSeries\":false,\"isEpisode\":false,\"__typename\":\"TitleType\"},\"titleText\":{\"text\":\"The Indian Maiden's Lesson\",\"__typename\":\"TitleText\"},\"releaseYear\":{\"year\":1911,\"endYear\":null,\"__typename\":\"YearRange\"},\"releaseDate\":{\"day\":22,\"month\":4,\"year\":1911,\"__typename\":\"ReleaseDate\"}},{\"id\":\"tt0001856\",\"primaryImage\":{\"id\":\"rm970923264\",\"width\":800,\"height\":597,\"url\":\"https://m.media-amazon.com/images/M/MV5BYmVhNGZlZTEtNjFmMS00MjEyLThkZmMtMTIwZjRjNzFkYjU3XkEyXkFqcGdeQXVyMDUyOTUyNQ@@._V1_.jpg\",\"caption\":{\"plainText\":\"Edwin August and Dorothy West in The Revenue Man and the Girl (1911)\",\"__typename\":\"Markdown\"},\"__typename\":\"Image\"},\"titleType\":{\"text\":\"Short\",\"id\":\"short\",\"isSeries\":false,\"isEpisode\":false,\"__typename\":\"TitleType\"},\"titleText\":{\"text\":\"The Revenue Man and the Girl\",\"__typename\":\"TitleText\"},\"releaseYear\":{\"year\":1911,\"endYear\":null,\"__typename\":\"YearRange\"},\"releaseDate\":{\"day\":25,\"month\":9,\"year\":1911,\"__typename\":\"ReleaseDate\"}}]}\n"
     ]
    }
   ],
   "source": [
    "import requests\n",
    "\n",
    "url = \"https://moviesdatabase.p.rapidapi.com/titles/x/titles-by-ids\"\n",
    "\n",
    "querystring = {\"idsList\":\"tt0001702,tt0001856,tt0001856\"}\n",
    "\n",
    "headers = {\n",
    "\t\"X-RapidAPI-Key\": \"9a81a971b3msh34cb1c391aed569p10a071jsnf95a632ba13e\",\n",
    "\t\"X-RapidAPI-Host\": \"moviesdatabase.p.rapidapi.com\"\n",
    "}\n",
    "\n",
    "response = requests.request(\"GET\", url, headers=headers, params=querystring)\n",
    "\n",
    "print(response.text)"
   ]
  },
  {
   "cell_type": "code",
   "execution_count": null,
   "id": "cce6ffa5",
   "metadata": {},
   "outputs": [],
   "source": []
  }
 ],
 "metadata": {
  "kernelspec": {
   "display_name": "Python 3 (ipykernel)",
   "language": "python",
   "name": "python3"
  },
  "language_info": {
   "codemirror_mode": {
    "name": "ipython",
    "version": 3
   },
   "file_extension": ".py",
   "mimetype": "text/x-python",
   "name": "python",
   "nbconvert_exporter": "python",
   "pygments_lexer": "ipython3",
   "version": "3.9.13"
  }
 },
 "nbformat": 4,
 "nbformat_minor": 5
}
