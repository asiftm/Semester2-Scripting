{
 "cells": [
  {
   "cell_type": "code",
   "execution_count": 6,
   "id": "8d130e41",
   "metadata": {},
   "outputs": [],
   "source": [
    "import sys"
   ]
  },
  {
   "cell_type": "code",
   "execution_count": 7,
   "id": "19edb12c",
   "metadata": {},
   "outputs": [
    {
     "name": "stdout",
     "output_type": "stream",
     "text": [
      "/Users/asifmahmud/Documents/DSPS/Semester2/Scripting/practice\n",
      "/Users/asifmahmud/opt/anaconda3/lib/python39.zip\n",
      "/Users/asifmahmud/opt/anaconda3/lib/python3.9\n",
      "/Users/asifmahmud/opt/anaconda3/lib/python3.9/lib-dynload\n",
      "\n",
      "/Users/asifmahmud/opt/anaconda3/lib/python3.9/site-packages\n"
     ]
    }
   ],
   "source": [
    "for i in sys.path:\n",
    "    print (i)"
   ]
  },
  {
   "cell_type": "code",
   "execution_count": 8,
   "id": "2406c80a",
   "metadata": {},
   "outputs": [],
   "source": [
    "sys.path.append('/opt/anaconda3/lib/python3.9/site-packages')"
   ]
  },
  {
   "cell_type": "code",
   "execution_count": 9,
   "id": "5181c0c7",
   "metadata": {},
   "outputs": [
    {
     "name": "stdout",
     "output_type": "stream",
     "text": [
      "/Users/asifmahmud/Documents/DSPS/Semester2/Scripting/practice\n",
      "/Users/asifmahmud/opt/anaconda3/lib/python39.zip\n",
      "/Users/asifmahmud/opt/anaconda3/lib/python3.9\n",
      "/Users/asifmahmud/opt/anaconda3/lib/python3.9/lib-dynload\n",
      "\n",
      "/Users/asifmahmud/opt/anaconda3/lib/python3.9/site-packages\n",
      "/opt/anaconda3/lib/python3.9/site-packages\n"
     ]
    }
   ],
   "source": [
    "for i in sys.path:\n",
    "    print (i)"
   ]
  },
  {
   "cell_type": "code",
   "execution_count": 10,
   "id": "82d3e643",
   "metadata": {},
   "outputs": [],
   "source": [
    "sys.path.append('/Users/asifmahmud/Documents/DSPS/Semester2/Scripting/WhatToCook')"
   ]
  },
  {
   "cell_type": "code",
   "execution_count": 11,
   "id": "c1e754ab",
   "metadata": {},
   "outputs": [
    {
     "name": "stdout",
     "output_type": "stream",
     "text": [
      "/Users/asifmahmud/Documents/DSPS/Semester2/Scripting/practice\n",
      "/Users/asifmahmud/opt/anaconda3/lib/python39.zip\n",
      "/Users/asifmahmud/opt/anaconda3/lib/python3.9\n",
      "/Users/asifmahmud/opt/anaconda3/lib/python3.9/lib-dynload\n",
      "\n",
      "/Users/asifmahmud/opt/anaconda3/lib/python3.9/site-packages\n",
      "/opt/anaconda3/lib/python3.9/site-packages\n",
      "/Users/asifmahmud/Documents/DSPS/Semester2/Scripting/WhatToCook\n"
     ]
    }
   ],
   "source": [
    "for i in sys.path:\n",
    "    print (i)"
   ]
  },
  {
   "cell_type": "code",
   "execution_count": 14,
   "id": "fdf4797c",
   "metadata": {},
   "outputs": [],
   "source": [
    "from whattocook import simple"
   ]
  },
  {
   "cell_type": "code",
   "execution_count": 15,
   "id": "cc994c5a",
   "metadata": {},
   "outputs": [
    {
     "ename": "OSError",
     "evalue": "cannot open resource",
     "output_type": "error",
     "traceback": [
      "\u001b[0;31m---------------------------------------------------------------------------\u001b[0m",
      "\u001b[0;31mOSError\u001b[0m                                   Traceback (most recent call last)",
      "Cell \u001b[0;32mIn[15], line 1\u001b[0m\n\u001b[0;32m----> 1\u001b[0m \u001b[43msimple\u001b[49m\u001b[43m(\u001b[49m\u001b[43m)\u001b[49m\n",
      "File \u001b[0;32m/opt/anaconda3/lib/python3.9/site-packages/whattocook/whattocook.py:8\u001b[0m, in \u001b[0;36msimple\u001b[0;34m()\u001b[0m\n\u001b[1;32m      5\u001b[0m random_key \u001b[38;5;241m=\u001b[39m random\u001b[38;5;241m.\u001b[39mchoice(\u001b[38;5;28mlist\u001b[39m(recipe_dict\u001b[38;5;241m.\u001b[39mkeys()))\n\u001b[1;32m      6\u001b[0m \u001b[38;5;66;03m# dish = output_format(recipe_dict, random_key)\u001b[39;00m\n\u001b[0;32m----> 8\u001b[0m \u001b[43moutput_pdf\u001b[49m\u001b[43m(\u001b[49m\u001b[43mrecipe_dict\u001b[49m\u001b[43m,\u001b[49m\u001b[43m \u001b[49m\u001b[43mrandom_key\u001b[49m\u001b[43m)\u001b[49m\n",
      "File \u001b[0;32m/opt/anaconda3/lib/python3.9/site-packages/whattocook/whattocook.py:491\u001b[0m, in \u001b[0;36moutput_pdf\u001b[0;34m(recipe_dict, random_key)\u001b[0m\n\u001b[1;32m    489\u001b[0m font_filename \u001b[38;5;241m=\u001b[39m \u001b[38;5;124m'\u001b[39m\u001b[38;5;124m../data/Techni Sans V2.ttf\u001b[39m\u001b[38;5;124m'\u001b[39m\n\u001b[1;32m    490\u001b[0m font_path \u001b[38;5;241m=\u001b[39m os\u001b[38;5;241m.\u001b[39mpath\u001b[38;5;241m.\u001b[39mjoin(current_dir, font_filename)\n\u001b[0;32m--> 491\u001b[0m font \u001b[38;5;241m=\u001b[39m \u001b[43mImageFont\u001b[49m\u001b[38;5;241;43m.\u001b[39;49m\u001b[43mtruetype\u001b[49m\u001b[43m(\u001b[49m\u001b[43mfont_path\u001b[49m\u001b[43m,\u001b[49m\u001b[43m \u001b[49m\u001b[43msize\u001b[49m\u001b[38;5;241;43m=\u001b[39;49m\u001b[38;5;241;43m24\u001b[39;49m\u001b[43m)\u001b[49m\n\u001b[1;32m    493\u001b[0m draw \u001b[38;5;241m=\u001b[39m ImageDraw\u001b[38;5;241m.\u001b[39mDraw(pdf)\n\u001b[1;32m    495\u001b[0m random_item \u001b[38;5;241m=\u001b[39m recipe_dict[random_key]\n",
      "File \u001b[0;32m~/opt/anaconda3/lib/python3.9/site-packages/PIL/ImageFont.py:976\u001b[0m, in \u001b[0;36mtruetype\u001b[0;34m(font, size, index, encoding, layout_engine)\u001b[0m\n\u001b[1;32m    973\u001b[0m     \u001b[38;5;28;01mreturn\u001b[39;00m FreeTypeFont(font, size, index, encoding, layout_engine)\n\u001b[1;32m    975\u001b[0m \u001b[38;5;28;01mtry\u001b[39;00m:\n\u001b[0;32m--> 976\u001b[0m     \u001b[38;5;28;01mreturn\u001b[39;00m \u001b[43mfreetype\u001b[49m\u001b[43m(\u001b[49m\u001b[43mfont\u001b[49m\u001b[43m)\u001b[49m\n\u001b[1;32m    977\u001b[0m \u001b[38;5;28;01mexcept\u001b[39;00m \u001b[38;5;167;01mOSError\u001b[39;00m:\n\u001b[1;32m    978\u001b[0m     \u001b[38;5;28;01mif\u001b[39;00m \u001b[38;5;129;01mnot\u001b[39;00m is_path(font):\n",
      "File \u001b[0;32m~/opt/anaconda3/lib/python3.9/site-packages/PIL/ImageFont.py:973\u001b[0m, in \u001b[0;36mtruetype.<locals>.freetype\u001b[0;34m(font)\u001b[0m\n\u001b[1;32m    972\u001b[0m \u001b[38;5;28;01mdef\u001b[39;00m \u001b[38;5;21mfreetype\u001b[39m(font):\n\u001b[0;32m--> 973\u001b[0m     \u001b[38;5;28;01mreturn\u001b[39;00m \u001b[43mFreeTypeFont\u001b[49m\u001b[43m(\u001b[49m\u001b[43mfont\u001b[49m\u001b[43m,\u001b[49m\u001b[43m \u001b[49m\u001b[43msize\u001b[49m\u001b[43m,\u001b[49m\u001b[43m \u001b[49m\u001b[43mindex\u001b[49m\u001b[43m,\u001b[49m\u001b[43m \u001b[49m\u001b[43mencoding\u001b[49m\u001b[43m,\u001b[49m\u001b[43m \u001b[49m\u001b[43mlayout_engine\u001b[49m\u001b[43m)\u001b[49m\n",
      "File \u001b[0;32m~/opt/anaconda3/lib/python3.9/site-packages/PIL/ImageFont.py:249\u001b[0m, in \u001b[0;36mFreeTypeFont.__init__\u001b[0;34m(self, font, size, index, encoding, layout_engine)\u001b[0m\n\u001b[1;32m    247\u001b[0m                 load_from_bytes(f)\n\u001b[1;32m    248\u001b[0m             \u001b[38;5;28;01mreturn\u001b[39;00m\n\u001b[0;32m--> 249\u001b[0m     \u001b[38;5;28mself\u001b[39m\u001b[38;5;241m.\u001b[39mfont \u001b[38;5;241m=\u001b[39m \u001b[43mcore\u001b[49m\u001b[38;5;241;43m.\u001b[39;49m\u001b[43mgetfont\u001b[49m\u001b[43m(\u001b[49m\n\u001b[1;32m    250\u001b[0m \u001b[43m        \u001b[49m\u001b[43mfont\u001b[49m\u001b[43m,\u001b[49m\u001b[43m \u001b[49m\u001b[43msize\u001b[49m\u001b[43m,\u001b[49m\u001b[43m \u001b[49m\u001b[43mindex\u001b[49m\u001b[43m,\u001b[49m\u001b[43m \u001b[49m\u001b[43mencoding\u001b[49m\u001b[43m,\u001b[49m\u001b[43m \u001b[49m\u001b[43mlayout_engine\u001b[49m\u001b[38;5;241;43m=\u001b[39;49m\u001b[43mlayout_engine\u001b[49m\n\u001b[1;32m    251\u001b[0m \u001b[43m    \u001b[49m\u001b[43m)\u001b[49m\n\u001b[1;32m    252\u001b[0m \u001b[38;5;28;01melse\u001b[39;00m:\n\u001b[1;32m    253\u001b[0m     load_from_bytes(font)\n",
      "\u001b[0;31mOSError\u001b[0m: cannot open resource"
     ]
    }
   ],
   "source": [
    "simple()"
   ]
  },
  {
   "cell_type": "code",
   "execution_count": null,
   "id": "802418a1",
   "metadata": {},
   "outputs": [],
   "source": []
  }
 ],
 "metadata": {
  "kernelspec": {
   "display_name": "Python 3 (ipykernel)",
   "language": "python",
   "name": "python3"
  },
  "language_info": {
   "codemirror_mode": {
    "name": "ipython",
    "version": 3
   },
   "file_extension": ".py",
   "mimetype": "text/x-python",
   "name": "python",
   "nbconvert_exporter": "python",
   "pygments_lexer": "ipython3",
   "version": "3.9.13"
  }
 },
 "nbformat": 4,
 "nbformat_minor": 5
}
